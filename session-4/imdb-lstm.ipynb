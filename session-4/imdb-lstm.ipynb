{
  "nbformat": 4,
  "nbformat_minor": 0,
  "metadata": {
    "colab": {
      "name": "Copy of END2 Session 4.ipynb",
      "provenance": [],
      "toc_visible": true,
      "include_colab_link": true
    },
    "kernelspec": {
      "display_name": "Python 3",
      "name": "python3"
    },
    "language_info": {
      "name": "python"
    },
    "accelerator": "GPU"
  },
  "cells": [
    {
      "cell_type": "markdown",
      "metadata": {
        "id": "view-in-github",
        "colab_type": "text"
      },
      "source": [
        "<a href=\"https://colab.research.google.com/github/firekind/END3/blob/main/session-4/imdb-lstm.ipynb\" target=\"_parent\"><img src=\"https://colab.research.google.com/assets/colab-badge.svg\" alt=\"Open In Colab\"/></a>"
      ]
    },
    {
      "cell_type": "code",
      "metadata": {
        "id": "4SPhj6gnAnT2"
      },
      "source": [
        "import torch\n",
        "from torchtext.legacy import data\n",
        "\n",
        "SEED = 1234\n",
        "\n",
        "torch.manual_seed(SEED)\n",
        "torch.backends.cudnn.deterministic = True\n",
        "\n",
        "TEXT = data.Field(tokenize = 'spacy',\n",
        "                  tokenizer_language = 'en_core_web_sm', include_lengths=True)\n",
        "LABEL = data.LabelField(dtype = torch.float)"
      ],
      "execution_count": 1,
      "outputs": []
    },
    {
      "cell_type": "code",
      "metadata": {
        "id": "lwn4oStE6PzV"
      },
      "source": [
        "from torchtext.legacy import datasets\n",
        "\n",
        "train_data, test_data = datasets.IMDB.splits(TEXT, LABEL)"
      ],
      "execution_count": 2,
      "outputs": []
    },
    {
      "cell_type": "code",
      "metadata": {
        "colab": {
          "base_uri": "https://localhost:8080/"
        },
        "id": "5DLJ86m56Xdn",
        "outputId": "ffa0f4c7-950a-4f81-bb43-2277205c73a3"
      },
      "source": [
        "print(f'Number of training examples: {len(train_data)}')\n",
        "print(f'Number of testing examples: {len(test_data)}')"
      ],
      "execution_count": 3,
      "outputs": [
        {
          "output_type": "stream",
          "name": "stdout",
          "text": [
            "Number of training examples: 25000\n",
            "Number of testing examples: 25000\n"
          ]
        }
      ]
    },
    {
      "cell_type": "code",
      "metadata": {
        "colab": {
          "base_uri": "https://localhost:8080/"
        },
        "id": "iXTWwqXA6rP2",
        "outputId": "ab997e52-23cd-45cb-dde4-70b0835d9d0a"
      },
      "source": [
        "print(vars(train_data.examples[0]))"
      ],
      "execution_count": 4,
      "outputs": [
        {
          "output_type": "stream",
          "name": "stdout",
          "text": [
            "{'text': ['While', 'this', 'was', 'a', 'better', 'movie', 'than', '101', 'Dalmations', '(', 'live', 'action', ',', 'not', 'animated', 'version', ')', ',', 'I', 'think', 'it', 'still', 'fell', 'a', 'little', 'short', 'of', 'what', 'Disney', 'could', 'do', '.', 'It', 'was', 'well', '-', 'filmed', ',', 'the', 'music', 'was', 'more', 'suited', 'to', 'the', 'action', ',', 'and', 'the', 'effects', 'were', 'better', 'done', '(', 'compared', 'to', '101', ')', '.', 'The', 'acting', 'was', 'perhaps', 'better', ',', 'but', 'then', 'the', 'human', 'characters', 'were', 'given', 'far', 'more', 'appropriate', 'roles', 'in', 'this', 'sequel', ',', 'and', 'Glenn', 'Close', 'is', 'really', 'not', 'to', 'be', 'missed', ',', 'as', 'in', 'the', 'first', 'movie', '.', 'She', 'makes', 'it', 'shine', '.', 'Her', 'poor', 'lackey', 'and', 'the', 'overzealous', 'furrier', 'sidekicks', 'are', 'wonderful', 'characters', 'to', 'play', 'off', 'of', ',', 'and', 'they', 'add', 'to', 'the', 'spectacle', 'Disney', 'has', 'given', 'us', '.', 'This', 'is', 'a', 'great', 'family', 'film', ',', 'with', 'little', 'or', 'no', 'objectionable', 'material', ',', 'and', 'yet', 'it', 'remains', 'fun', 'and', 'interesting', 'for', 'adults', 'and', 'children', 'alike', '.', 'It', \"'s\", 'bound', 'to', 'be', 'a', 'classic', ',', 'as', 'so', 'many', 'Disney', 'films', 'are', '.', 'Here', \"'s\", 'to', 'hoping', 'the', 'third', 'will', 'be', 'even', 'better', 'still-', 'because', 'you', 'know', 'they', 'probably', 'want', 'to', 'make', 'one', '.', ';)'], 'label': 'pos'}\n"
          ]
        }
      ]
    },
    {
      "cell_type": "code",
      "metadata": {
        "id": "3HMVqiZd6tR0"
      },
      "source": [
        "import random\n",
        "\n",
        "train_data, valid_data = train_data.split(random_state = random.seed(SEED))"
      ],
      "execution_count": 5,
      "outputs": []
    },
    {
      "cell_type": "code",
      "metadata": {
        "colab": {
          "base_uri": "https://localhost:8080/"
        },
        "id": "uOeQ6KpP7M-0",
        "outputId": "470df942-67a1-4b01-9209-2aa0025615b2"
      },
      "source": [
        "print(f'Number of training examples: {len(train_data)}')\n",
        "print(f'Number of validation examples: {len(valid_data)}')\n",
        "print(f'Number of testing examples: {len(test_data)}')"
      ],
      "execution_count": 6,
      "outputs": [
        {
          "output_type": "stream",
          "name": "stdout",
          "text": [
            "Number of training examples: 17500\n",
            "Number of validation examples: 7500\n",
            "Number of testing examples: 25000\n"
          ]
        }
      ]
    },
    {
      "cell_type": "code",
      "metadata": {
        "id": "KixkM1jQ7TB-"
      },
      "source": [
        "MAX_VOCAB_SIZE = 25_000\n",
        "\n",
        "TEXT.build_vocab(train_data, max_size = MAX_VOCAB_SIZE)\n",
        "LABEL.build_vocab(train_data)"
      ],
      "execution_count": 7,
      "outputs": []
    },
    {
      "cell_type": "code",
      "metadata": {
        "colab": {
          "base_uri": "https://localhost:8080/"
        },
        "id": "hD4SFKnc7g0D",
        "outputId": "6e6c2ed4-4494-476f-f06b-b9e18fc333f9"
      },
      "source": [
        "print(f\"Unique tokens in TEXT vocabulary: {len(TEXT.vocab)}\")\n",
        "print(f\"Unique tokens in LABEL vocabulary: {len(LABEL.vocab)}\")"
      ],
      "execution_count": 8,
      "outputs": [
        {
          "output_type": "stream",
          "name": "stdout",
          "text": [
            "Unique tokens in TEXT vocabulary: 25002\n",
            "Unique tokens in LABEL vocabulary: 2\n"
          ]
        }
      ]
    },
    {
      "cell_type": "code",
      "metadata": {
        "colab": {
          "base_uri": "https://localhost:8080/"
        },
        "id": "ttKvFTCQ7isK",
        "outputId": "8d6ff096-e8eb-49c9-fe0e-ded0d484940c"
      },
      "source": [
        "print(TEXT.vocab.freqs.most_common(20))"
      ],
      "execution_count": 9,
      "outputs": [
        {
          "output_type": "stream",
          "name": "stdout",
          "text": [
            "[('the', 203883), (',', 193363), ('.', 166762), ('and', 110063), ('a', 109530), ('of', 100924), ('to', 93842), ('is', 76734), ('in', 61619), ('I', 54378), ('it', 53503), ('that', 49231), ('\"', 44186), (\"'s\", 43472), ('this', 42441), ('-', 37108), ('/><br', 35778), ('was', 35097), ('as', 30575), ('with', 30303)]\n"
          ]
        }
      ]
    },
    {
      "cell_type": "code",
      "metadata": {
        "colab": {
          "base_uri": "https://localhost:8080/"
        },
        "id": "fZXIsIV47mlI",
        "outputId": "7d1ed188-0135-43df-95e4-0de16665a446"
      },
      "source": [
        "print(TEXT.vocab.itos[:10])"
      ],
      "execution_count": 10,
      "outputs": [
        {
          "output_type": "stream",
          "name": "stdout",
          "text": [
            "['<unk>', '<pad>', 'the', ',', '.', 'and', 'a', 'of', 'to', 'is']\n"
          ]
        }
      ]
    },
    {
      "cell_type": "code",
      "metadata": {
        "id": "vmbx3T9-7x4g",
        "colab": {
          "base_uri": "https://localhost:8080/"
        },
        "outputId": "755a7c65-be80-40fb-c260-4c135dbc1674"
      },
      "source": [
        "print(LABEL.vocab.stoi)"
      ],
      "execution_count": 11,
      "outputs": [
        {
          "output_type": "stream",
          "name": "stdout",
          "text": [
            "defaultdict(None, {'neg': 0, 'pos': 1})\n"
          ]
        }
      ]
    },
    {
      "cell_type": "code",
      "metadata": {
        "id": "B3gBfP6mEJ_0"
      },
      "source": [
        "BATCH_SIZE = 128\n",
        "\n",
        "device = torch.device('cuda' if torch.cuda.is_available() else 'cpu')\n",
        "\n",
        "train_iterator, valid_iterator, test_iterator = data.BucketIterator.splits(\n",
        "    (train_data, valid_data, test_data), \n",
        "    batch_size = BATCH_SIZE,\n",
        "    sort_within_batch=True,\n",
        "    device = device)"
      ],
      "execution_count": 12,
      "outputs": []
    },
    {
      "cell_type": "code",
      "metadata": {
        "id": "E2ZQQV1-ELZf"
      },
      "source": [
        "import torch.nn as nn\n",
        "\n",
        "class LSTM(nn.Module):\n",
        "    def __init__(self, input_dim, embedding_dim, hidden_dim, output_dim):\n",
        "        \n",
        "        super().__init__()\n",
        "        \n",
        "        self.embedding = nn.Embedding(input_dim, embedding_dim)\n",
        "        \n",
        "        self.lstm = nn.LSTM(embedding_dim, hidden_dim)\n",
        "        \n",
        "        self.fc = nn.Linear(hidden_dim, output_dim)\n",
        "        \n",
        "    def forward(self, text, text_lengths):\n",
        "        embedded = self.embedding(text)        \n",
        "        packed_embedded = nn.utils.rnn.pack_padded_sequence(embedded, text_lengths.cpu())\n",
        "        packed_output, (hidden, cell) = self.lstm(packed_embedded)\n",
        "        \n",
        "        return self.fc(hidden.squeeze(0)).view(-1)"
      ],
      "execution_count": 13,
      "outputs": []
    },
    {
      "cell_type": "code",
      "metadata": {
        "id": "x0_X5kSwENad"
      },
      "source": [
        "\n",
        "INPUT_DIM = len(TEXT.vocab)\n",
        "EMBEDDING_DIM = 100\n",
        "HIDDEN_DIM = 256\n",
        "OUTPUT_DIM = 1\n",
        "\n",
        "model = LSTM(INPUT_DIM, EMBEDDING_DIM, HIDDEN_DIM, OUTPUT_DIM)"
      ],
      "execution_count": 14,
      "outputs": []
    },
    {
      "cell_type": "code",
      "metadata": {
        "colab": {
          "base_uri": "https://localhost:8080/"
        },
        "id": "VdGb8dKBEO2x",
        "outputId": "c0ec8c15-2bb8-4f94-991d-e2f1ab68638e"
      },
      "source": [
        "def count_parameters(model):\n",
        "    return sum(p.numel() for p in model.parameters() if p.requires_grad)\n",
        "\n",
        "print(f'The model has {count_parameters(model):,} trainable parameters')"
      ],
      "execution_count": 15,
      "outputs": [
        {
          "output_type": "stream",
          "name": "stdout",
          "text": [
            "The model has 2,867,049 trainable parameters\n"
          ]
        }
      ]
    },
    {
      "cell_type": "code",
      "metadata": {
        "id": "AAeEtXiJEQCj"
      },
      "source": [
        "import torch.optim as optim\n",
        "\n",
        "optimizer = optim.Adam(model.parameters(), lr=1e-4)"
      ],
      "execution_count": 16,
      "outputs": []
    },
    {
      "cell_type": "code",
      "metadata": {
        "id": "0Utp4-qAERRG"
      },
      "source": [
        "criterion = nn.BCEWithLogitsLoss()"
      ],
      "execution_count": 17,
      "outputs": []
    },
    {
      "cell_type": "code",
      "metadata": {
        "id": "PyAXf58FESdL"
      },
      "source": [
        "model = model.to(device)\n",
        "criterion = criterion.to(device)"
      ],
      "execution_count": 18,
      "outputs": []
    },
    {
      "cell_type": "code",
      "metadata": {
        "id": "w4yNiGXQETh9"
      },
      "source": [
        "def binary_accuracy(preds, y):\n",
        "    \"\"\"\n",
        "    Returns accuracy per batch, i.e. if you get 8/10 right, this returns 0.8, NOT 8\n",
        "    \"\"\"\n",
        "    #round predictions to the closest integer\n",
        "    rounded_preds = torch.round(torch.sigmoid(preds))\n",
        "    correct = (rounded_preds == y).float() #convert into float for division \n",
        "    acc = correct.sum() / len(correct)\n",
        "    return acc"
      ],
      "execution_count": 19,
      "outputs": []
    },
    {
      "cell_type": "code",
      "metadata": {
        "id": "N1iGJW1wEUrL"
      },
      "source": [
        "def train(model, iterator, optimizer, criterion):\n",
        "    \n",
        "    epoch_loss = 0\n",
        "    epoch_acc = 0\n",
        "    \n",
        "    model.train()\n",
        "    \n",
        "    for batch in iterator:\n",
        "        \n",
        "        optimizer.zero_grad()\n",
        "        text, text_lengths = batch.text\n",
        "                \n",
        "        predictions = model(text, text_lengths)\n",
        "        \n",
        "        loss = criterion(predictions, batch.label)\n",
        "        \n",
        "        acc = binary_accuracy(predictions, batch.label)\n",
        "        \n",
        "        loss.backward()\n",
        "        \n",
        "        optimizer.step()\n",
        "        \n",
        "        epoch_loss += loss.item()\n",
        "        epoch_acc += acc.item()\n",
        "        \n",
        "    return epoch_loss / len(iterator), epoch_acc / len(iterator)"
      ],
      "execution_count": 20,
      "outputs": []
    },
    {
      "cell_type": "code",
      "metadata": {
        "id": "HNQxQS3tEWUW"
      },
      "source": [
        "def evaluate(model, iterator, criterion):\n",
        "    \n",
        "    epoch_loss = 0\n",
        "    epoch_acc = 0\n",
        "    \n",
        "    model.eval()\n",
        "    \n",
        "    with torch.no_grad():\n",
        "    \n",
        "        for batch in iterator:\n",
        "            text, text_lengths = batch.text\n",
        "            predictions = model(text, text_lengths)\n",
        "            \n",
        "            loss = criterion(predictions, batch.label)\n",
        "            \n",
        "            acc = binary_accuracy(predictions, batch.label)\n",
        "\n",
        "            epoch_loss += loss.item()\n",
        "            epoch_acc += acc.item()\n",
        "        \n",
        "    return epoch_loss / len(iterator), epoch_acc / len(iterator)"
      ],
      "execution_count": 21,
      "outputs": []
    },
    {
      "cell_type": "code",
      "metadata": {
        "id": "DVM8MtV6EYIw"
      },
      "source": [
        "import time\n",
        "\n",
        "def epoch_time(start_time, end_time):\n",
        "    elapsed_time = end_time - start_time\n",
        "    elapsed_mins = int(elapsed_time / 60)\n",
        "    elapsed_secs = int(elapsed_time - (elapsed_mins * 60))\n",
        "    return elapsed_mins, elapsed_secs"
      ],
      "execution_count": 22,
      "outputs": []
    },
    {
      "cell_type": "code",
      "metadata": {
        "colab": {
          "base_uri": "https://localhost:8080/"
        },
        "id": "yJ5KZmM4EZXW",
        "outputId": "5eb51104-8bc8-4da4-a72a-510b9c5ebd0f"
      },
      "source": [
        "N_EPOCHS = 30\n",
        "\n",
        "best_valid_loss = float('inf')\n",
        "\n",
        "for epoch in range(N_EPOCHS):\n",
        "\n",
        "    start_time = time.time()\n",
        "    \n",
        "    train_loss, train_acc = train(model, train_iterator, optimizer, criterion)\n",
        "    valid_loss, valid_acc = evaluate(model, valid_iterator, criterion)\n",
        "    \n",
        "    end_time = time.time()\n",
        "\n",
        "    epoch_mins, epoch_secs = epoch_time(start_time, end_time)\n",
        "    \n",
        "    if valid_loss < best_valid_loss:\n",
        "        best_valid_loss = valid_loss\n",
        "        torch.save(model.state_dict(), 'tut1-model.pt')\n",
        "    \n",
        "    print(f'Epoch: {epoch+1:02} | Epoch Time: {epoch_mins}m {epoch_secs}s')\n",
        "    print(f'\\tTrain Loss: {train_loss:.3f} | Train Acc: {train_acc*100:.2f}%')\n",
        "    print(f'\\t Val. Loss: {valid_loss:.3f} |  Val. Acc: {valid_acc*100:.2f}%')"
      ],
      "execution_count": 23,
      "outputs": [
        {
          "output_type": "stream",
          "name": "stdout",
          "text": [
            "Epoch: 01 | Epoch Time: 0m 18s\n",
            "\tTrain Loss: 0.690 | Train Acc: 52.53%\n",
            "\t Val. Loss: 0.685 |  Val. Acc: 55.93%\n",
            "Epoch: 02 | Epoch Time: 0m 18s\n",
            "\tTrain Loss: 0.667 | Train Acc: 59.47%\n",
            "\t Val. Loss: 0.620 |  Val. Acc: 65.35%\n",
            "Epoch: 03 | Epoch Time: 0m 18s\n",
            "\tTrain Loss: 0.589 | Train Acc: 69.14%\n",
            "\t Val. Loss: 0.580 |  Val. Acc: 70.40%\n",
            "Epoch: 04 | Epoch Time: 0m 17s\n",
            "\tTrain Loss: 0.548 | Train Acc: 72.94%\n",
            "\t Val. Loss: 0.538 |  Val. Acc: 73.51%\n",
            "Epoch: 05 | Epoch Time: 0m 17s\n",
            "\tTrain Loss: 0.503 | Train Acc: 75.96%\n",
            "\t Val. Loss: 0.500 |  Val. Acc: 75.19%\n",
            "Epoch: 06 | Epoch Time: 0m 18s\n",
            "\tTrain Loss: 0.481 | Train Acc: 77.63%\n",
            "\t Val. Loss: 0.501 |  Val. Acc: 77.49%\n",
            "Epoch: 07 | Epoch Time: 0m 18s\n",
            "\tTrain Loss: 0.455 | Train Acc: 79.37%\n",
            "\t Val. Loss: 0.464 |  Val. Acc: 78.26%\n",
            "Epoch: 08 | Epoch Time: 0m 18s\n",
            "\tTrain Loss: 0.415 | Train Acc: 81.74%\n",
            "\t Val. Loss: 0.436 |  Val. Acc: 79.51%\n",
            "Epoch: 09 | Epoch Time: 0m 17s\n",
            "\tTrain Loss: 0.402 | Train Acc: 82.62%\n",
            "\t Val. Loss: 0.434 |  Val. Acc: 79.92%\n",
            "Epoch: 10 | Epoch Time: 0m 17s\n",
            "\tTrain Loss: 0.388 | Train Acc: 83.21%\n",
            "\t Val. Loss: 0.459 |  Val. Acc: 79.41%\n",
            "Epoch: 11 | Epoch Time: 0m 17s\n",
            "\tTrain Loss: 0.359 | Train Acc: 84.83%\n",
            "\t Val. Loss: 0.397 |  Val. Acc: 82.35%\n",
            "Epoch: 12 | Epoch Time: 0m 17s\n",
            "\tTrain Loss: 0.332 | Train Acc: 86.27%\n",
            "\t Val. Loss: 0.402 |  Val. Acc: 82.16%\n",
            "Epoch: 13 | Epoch Time: 0m 18s\n",
            "\tTrain Loss: 0.335 | Train Acc: 86.15%\n",
            "\t Val. Loss: 0.460 |  Val. Acc: 78.61%\n",
            "Epoch: 14 | Epoch Time: 0m 18s\n",
            "\tTrain Loss: 0.317 | Train Acc: 87.09%\n",
            "\t Val. Loss: 0.383 |  Val. Acc: 83.78%\n",
            "Epoch: 15 | Epoch Time: 0m 18s\n",
            "\tTrain Loss: 0.304 | Train Acc: 87.73%\n",
            "\t Val. Loss: 0.384 |  Val. Acc: 83.51%\n",
            "Epoch: 16 | Epoch Time: 0m 17s\n",
            "\tTrain Loss: 0.321 | Train Acc: 86.72%\n",
            "\t Val. Loss: 0.380 |  Val. Acc: 83.93%\n",
            "Epoch: 17 | Epoch Time: 0m 18s\n",
            "\tTrain Loss: 0.266 | Train Acc: 89.65%\n",
            "\t Val. Loss: 0.364 |  Val. Acc: 84.24%\n",
            "Epoch: 18 | Epoch Time: 0m 17s\n",
            "\tTrain Loss: 0.260 | Train Acc: 89.50%\n",
            "\t Val. Loss: 0.362 |  Val. Acc: 84.38%\n",
            "Epoch: 19 | Epoch Time: 0m 17s\n",
            "\tTrain Loss: 0.247 | Train Acc: 90.37%\n",
            "\t Val. Loss: 0.365 |  Val. Acc: 84.36%\n",
            "Epoch: 20 | Epoch Time: 0m 18s\n",
            "\tTrain Loss: 0.241 | Train Acc: 90.64%\n",
            "\t Val. Loss: 0.410 |  Val. Acc: 84.19%\n",
            "Epoch: 21 | Epoch Time: 0m 17s\n",
            "\tTrain Loss: 0.244 | Train Acc: 90.60%\n",
            "\t Val. Loss: 0.361 |  Val. Acc: 85.67%\n",
            "Epoch: 22 | Epoch Time: 0m 17s\n",
            "\tTrain Loss: 0.217 | Train Acc: 91.79%\n",
            "\t Val. Loss: 0.360 |  Val. Acc: 85.52%\n",
            "Epoch: 23 | Epoch Time: 0m 17s\n",
            "\tTrain Loss: 0.226 | Train Acc: 91.35%\n",
            "\t Val. Loss: 0.371 |  Val. Acc: 84.98%\n",
            "Epoch: 24 | Epoch Time: 0m 17s\n",
            "\tTrain Loss: 0.203 | Train Acc: 92.41%\n",
            "\t Val. Loss: 0.350 |  Val. Acc: 85.54%\n",
            "Epoch: 25 | Epoch Time: 0m 17s\n",
            "\tTrain Loss: 0.204 | Train Acc: 92.36%\n",
            "\t Val. Loss: 0.389 |  Val. Acc: 85.47%\n",
            "Epoch: 26 | Epoch Time: 0m 17s\n",
            "\tTrain Loss: 0.190 | Train Acc: 92.95%\n",
            "\t Val. Loss: 0.361 |  Val. Acc: 85.92%\n",
            "Epoch: 27 | Epoch Time: 0m 17s\n",
            "\tTrain Loss: 0.203 | Train Acc: 92.54%\n",
            "\t Val. Loss: 0.526 |  Val. Acc: 82.09%\n",
            "Epoch: 28 | Epoch Time: 0m 17s\n",
            "\tTrain Loss: 0.179 | Train Acc: 93.51%\n",
            "\t Val. Loss: 0.350 |  Val. Acc: 85.99%\n",
            "Epoch: 29 | Epoch Time: 0m 17s\n",
            "\tTrain Loss: 0.160 | Train Acc: 94.28%\n",
            "\t Val. Loss: 0.355 |  Val. Acc: 86.22%\n",
            "Epoch: 30 | Epoch Time: 0m 17s\n",
            "\tTrain Loss: 0.212 | Train Acc: 91.99%\n",
            "\t Val. Loss: 0.371 |  Val. Acc: 86.12%\n"
          ]
        }
      ]
    },
    {
      "cell_type": "code",
      "metadata": {
        "id": "qIiKAJMaEbKO",
        "colab": {
          "base_uri": "https://localhost:8080/"
        },
        "outputId": "fd19323c-80aa-443e-f7c0-b87b8c1763be"
      },
      "source": [
        "model.load_state_dict(torch.load('tut1-model.pt'))\n",
        "\n",
        "test_loss, test_acc = evaluate(model, test_iterator, criterion)\n",
        "\n",
        "print(f'Test Loss: {test_loss:.3f} | Test Acc: {test_acc*100:.2f}%')"
      ],
      "execution_count": 24,
      "outputs": [
        {
          "output_type": "stream",
          "name": "stdout",
          "text": [
            "Test Loss: 0.369 | Test Acc: 85.17%\n"
          ]
        }
      ]
    },
    {
      "cell_type": "code",
      "metadata": {
        "id": "ES7FRaTQX-Vp"
      },
      "source": [
        ""
      ],
      "execution_count": 24,
      "outputs": []
    }
  ]
}