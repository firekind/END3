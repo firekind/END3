{
  "nbformat": 4,
  "nbformat_minor": 0,
  "metadata": {
    "colab": {
      "name": "END2.0 Session 1.ipynb",
      "provenance": []
    },
    "kernelspec": {
      "name": "python3",
      "display_name": "Python 3"
    },
    "language_info": {
      "name": "python"
    }
  },
  "cells": [
    {
      "cell_type": "code",
      "metadata": {
        "colab": {
          "base_uri": "https://localhost:8080/"
        },
        "id": "GC_6PeobwwkH",
        "outputId": "2fea13aa-b161-48c0-e123-6db8a07ac7ec"
      },
      "source": [
        "import torch\n",
        "from torch.autograd import Variable\n",
        "import torch.nn as nn\n",
        "import torch.nn.functional as F\n",
        "import torch.optim as optim\n",
        "import numpy as np\n",
        "import matplotlib.pyplot as plt\n",
        "%matplotlib inline\n",
        "torch.manual_seed(2)"
      ],
      "execution_count": 1,
      "outputs": [
        {
          "output_type": "execute_result",
          "data": {
            "text/plain": [
              "<torch._C.Generator at 0x7fd87e761a90>"
            ]
          },
          "metadata": {},
          "execution_count": 1
        }
      ]
    },
    {
      "cell_type": "code",
      "metadata": {
        "id": "bL64bMTkw2GP"
      },
      "source": [
        "X = torch.Tensor([[0,0], [0,1], [1,0], [1,1]])\n",
        "Y = torch.Tensor([0, 1, 1, 0]).view(-1,1)"
      ],
      "execution_count": 2,
      "outputs": []
    },
    {
      "cell_type": "code",
      "metadata": {
        "id": "aC82kEAIw3Wf"
      },
      "source": [
        "class XOR(nn.Module):\n",
        "    def __init__(self, input_dim = 2, output_dim=1):\n",
        "        super(XOR, self).__init__()\n",
        "        self.lin1 = nn.Linear(input_dim, 4, bias = False)\n",
        "        self.lin2 = nn.Linear(4, 4, bias = False)\n",
        "        self.lin3 = nn.Linear(4, 4, bias = False)\n",
        "        self.lin4 = nn.Linear(4, output_dim, bias = False)\n",
        "    \n",
        "    def forward(self, x):\n",
        "        x = self.lin1(x)\n",
        "        x = torch.tanh(x)\n",
        "        x = self.lin2(x)\n",
        "        x = torch.tanh(x)\n",
        "        x = self.lin3(x)\n",
        "        x = torch.tanh(x)\n",
        "        return self.lin4(x)"
      ],
      "execution_count": 11,
      "outputs": []
    },
    {
      "cell_type": "code",
      "metadata": {
        "colab": {
          "base_uri": "https://localhost:8080/"
        },
        "id": "8gQIQExYw65K",
        "outputId": "3dfd8b41-9ee7-43e9-c6c6-771f3ce0ac05"
      },
      "source": [
        "model = XOR()\n",
        "print(model)\n",
        "from torchsummary import summary\n",
        "summary(model, (2,2))"
      ],
      "execution_count": 12,
      "outputs": [
        {
          "output_type": "stream",
          "name": "stdout",
          "text": [
            "XOR(\n",
            "  (lin1): Linear(in_features=2, out_features=4, bias=False)\n",
            "  (lin2): Linear(in_features=4, out_features=4, bias=False)\n",
            "  (lin3): Linear(in_features=4, out_features=4, bias=False)\n",
            "  (lin4): Linear(in_features=4, out_features=1, bias=False)\n",
            ")\n",
            "----------------------------------------------------------------\n",
            "        Layer (type)               Output Shape         Param #\n",
            "================================================================\n",
            "            Linear-1                 [-1, 2, 4]               8\n",
            "            Linear-2                 [-1, 2, 4]              16\n",
            "            Linear-3                 [-1, 2, 4]              16\n",
            "            Linear-4                 [-1, 2, 1]               4\n",
            "================================================================\n",
            "Total params: 44\n",
            "Trainable params: 44\n",
            "Non-trainable params: 0\n",
            "----------------------------------------------------------------\n",
            "Input size (MB): 0.00\n",
            "Forward/backward pass size (MB): 0.00\n",
            "Params size (MB): 0.00\n",
            "Estimated Total Size (MB): 0.00\n",
            "----------------------------------------------------------------\n"
          ]
        }
      ]
    },
    {
      "cell_type": "code",
      "metadata": {
        "id": "yeotEq19x6XF"
      },
      "source": [
        "def weights_init(model):\n",
        "    for m in model.modules():\n",
        "        if isinstance(m, nn.Linear):\n",
        "            # initialize the weight tensor, here we use a normal distribution\n",
        "            m.weight.data.normal_(0, 1)\n",
        "\n",
        "weights_init(model)"
      ],
      "execution_count": 13,
      "outputs": []
    },
    {
      "cell_type": "code",
      "metadata": {
        "id": "WrD_sNzLx78e"
      },
      "source": [
        "loss_func = nn.L1Loss()"
      ],
      "execution_count": 14,
      "outputs": []
    },
    {
      "cell_type": "code",
      "metadata": {
        "id": "-zvbrMd2x_lA"
      },
      "source": [
        "optimizer = optim.SGD(model.parameters(), lr=0.02, momentum=0.9)"
      ],
      "execution_count": 15,
      "outputs": []
    },
    {
      "cell_type": "code",
      "metadata": {
        "colab": {
          "base_uri": "https://localhost:8080/"
        },
        "id": "q7tWa3D7yA5X",
        "outputId": "9373929d-0f44-41c8-e39d-925634f17af4"
      },
      "source": [
        "epochs = 2001\n",
        "steps = X.size(0)\n",
        "for i in range(epochs):\n",
        "    for j in range(steps):\n",
        "        data_point = np.random.randint(X.size(0))\n",
        "        x_var = Variable(X[data_point], requires_grad=False)\n",
        "        y_var = Variable(Y[data_point], requires_grad=False)\n",
        "        \n",
        "        optimizer.zero_grad()\n",
        "        y_hat = model(x_var)\n",
        "        loss = loss_func.forward(y_hat, y_var)\n",
        "        loss.backward()\n",
        "        optimizer.step()\n",
        "        \n",
        "    if i % 50 == 0:\n",
        "        print( \"Epoch: {}, Loss: {:.4f}, \".format(i, loss.data.numpy()))"
      ],
      "execution_count": 17,
      "outputs": [
        {
          "output_type": "stream",
          "name": "stdout",
          "text": [
            "Epoch: 0, Loss: 2.2550, \n",
            "Epoch: 50, Loss: 0.2190, \n",
            "Epoch: 100, Loss: 0.6810, \n",
            "Epoch: 150, Loss: 0.3192, \n",
            "Epoch: 200, Loss: 0.0028, \n",
            "Epoch: 250, Loss: 0.3186, \n",
            "Epoch: 300, Loss: 0.0000, \n",
            "Epoch: 350, Loss: 0.3853, \n",
            "Epoch: 400, Loss: 0.6800, \n",
            "Epoch: 450, Loss: 0.3463, \n",
            "Epoch: 500, Loss: 0.0314, \n",
            "Epoch: 550, Loss: 0.0112, \n",
            "Epoch: 600, Loss: 0.0651, \n",
            "Epoch: 650, Loss: 0.0000, \n",
            "Epoch: 700, Loss: 0.2741, \n",
            "Epoch: 750, Loss: 0.0000, \n",
            "Epoch: 800, Loss: 0.0653, \n",
            "Epoch: 850, Loss: 0.1755, \n",
            "Epoch: 900, Loss: 0.0660, \n",
            "Epoch: 950, Loss: 0.0514, \n",
            "Epoch: 1000, Loss: 0.0699, \n",
            "Epoch: 1050, Loss: 0.0617, \n",
            "Epoch: 1100, Loss: 0.2225, \n",
            "Epoch: 1150, Loss: 0.2248, \n",
            "Epoch: 1200, Loss: 0.2130, \n",
            "Epoch: 1250, Loss: 0.0852, \n",
            "Epoch: 1300, Loss: 0.1649, \n",
            "Epoch: 1350, Loss: 0.0000, \n",
            "Epoch: 1400, Loss: 0.1705, \n",
            "Epoch: 1450, Loss: 0.0101, \n",
            "Epoch: 1500, Loss: 0.1331, \n",
            "Epoch: 1550, Loss: 0.0000, \n",
            "Epoch: 1600, Loss: 0.1090, \n",
            "Epoch: 1650, Loss: 0.1359, \n",
            "Epoch: 1700, Loss: 0.0346, \n",
            "Epoch: 1750, Loss: 0.1457, \n",
            "Epoch: 1800, Loss: 0.0000, \n",
            "Epoch: 1850, Loss: 0.0000, \n",
            "Epoch: 1900, Loss: 0.0198, \n",
            "Epoch: 1950, Loss: 0.3855, \n",
            "Epoch: 2000, Loss: 0.0148, \n"
          ]
        }
      ]
    }
  ]
}